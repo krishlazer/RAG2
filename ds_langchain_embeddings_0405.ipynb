{
 "cells": [
  {
   "cell_type": "code",
   "id": "initial_id",
   "metadata": {
    "collapsed": true,
    "ExecuteTime": {
     "end_time": "2024-05-04T13:06:01.971880Z",
     "start_time": "2024-05-04T13:06:00.133529Z"
    }
   },
   "source": "import langchain_openai",
   "execution_count": 1,
   "outputs": []
  },
  {
   "metadata": {
    "ExecuteTime": {
     "end_time": "2024-05-04T13:06:18.554422Z",
     "start_time": "2024-05-04T13:06:18.537290Z"
    }
   },
   "cell_type": "code",
   "source": "import os",
   "id": "31e368c72a534107",
   "execution_count": 2,
   "outputs": []
  },
  {
   "metadata": {
    "ExecuteTime": {
     "end_time": "2024-05-04T13:06:35.253102Z",
     "start_time": "2024-05-04T13:06:35.236973Z"
    }
   },
   "cell_type": "code",
   "source": "openai_api_key = os.getenv(\"OPENAI_API_KEY\")",
   "id": "6df96cd8219a2b0d",
   "execution_count": 3,
   "outputs": []
  },
  {
   "metadata": {
    "ExecuteTime": {
     "end_time": "2024-05-04T13:07:55.829077Z",
     "start_time": "2024-05-04T13:07:54.934116Z"
    }
   },
   "cell_type": "code",
   "source": [
    "from langchain_openai import OpenAIEmbeddings\n",
    "embeddings_model = OpenAIEmbeddings()"
   ],
   "id": "6e0ce3683da0697f",
   "execution_count": 4,
   "outputs": []
  },
  {
   "metadata": {},
   "cell_type": "markdown",
   "source": "embedding list of texts",
   "id": "39139b84928df3be"
  },
  {
   "metadata": {
    "ExecuteTime": {
     "end_time": "2024-05-04T13:13:27.616949Z",
     "start_time": "2024-05-04T13:13:26.349290Z"
    }
   },
   "cell_type": "code",
   "source": [
    "embeddings = embeddings_model.embed_documents(\n",
    "    [\n",
    "        \"Has the meeting been postponed?\",\n",
    "        \"When are the delegates arriving?\",\n",
    "        \"This is going to be a grand success.\",\n",
    "        \"Please keep the books back in the shelf\",\n",
    "        \"Let's go to an Italian restaurant today!\"\n",
    "    ]\n",
    ")"
   ],
   "id": "8b78a65fc96312b5",
   "execution_count": 9,
   "outputs": []
  },
  {
   "metadata": {
    "ExecuteTime": {
     "end_time": "2024-05-04T13:13:31.649348Z",
     "start_time": "2024-05-04T13:13:31.614878Z"
    }
   },
   "cell_type": "code",
   "source": "len(embeddings), len(embeddings[0])",
   "id": "904bd322e3d298e4",
   "execution_count": 10,
   "outputs": []
  },
  {
   "metadata": {
    "ExecuteTime": {
     "end_time": "2024-05-04T13:15:27.865711Z",
     "start_time": "2024-05-04T13:15:27.429851Z"
    }
   },
   "cell_type": "code",
   "source": "embedded_query = embeddings_model.embed_query(\"We need to convene a meeting soon!\")",
   "id": "15d4e33bca4739cf",
   "execution_count": 11,
   "outputs": []
  },
  {
   "metadata": {
    "ExecuteTime": {
     "end_time": "2024-05-04T13:15:42.897207Z",
     "start_time": "2024-05-04T13:15:42.854455Z"
    }
   },
   "cell_type": "code",
   "source": "embedded_query",
   "id": "d0f2021d414db451",
   "execution_count": 13,
   "outputs": []
  },
  {
   "metadata": {
    "ExecuteTime": {
     "end_time": "2024-05-04T13:16:10.662306Z",
     "start_time": "2024-05-04T13:16:10.642339Z"
    }
   },
   "cell_type": "code",
   "source": "len(embedded_query)",
   "id": "94c5115af0af388f",
   "execution_count": 14,
   "outputs": []
  },
  {
   "metadata": {
    "ExecuteTime": {
     "end_time": "2024-05-04T13:16:26.847541Z",
     "start_time": "2024-05-04T13:16:26.824594Z"
    }
   },
   "cell_type": "code",
   "source": "embedded_query[:5]",
   "id": "61cd459b738ffc9",
   "execution_count": 15,
   "outputs": []
  },
  {
   "metadata": {
    "ExecuteTime": {
     "end_time": "2024-05-04T13:25:21.971863Z",
     "start_time": "2024-05-04T13:25:21.210290Z"
    }
   },
   "cell_type": "code",
   "source": "import langchain_chroma",
   "id": "3cd6e78eeffda20e",
   "execution_count": 16,
   "outputs": []
  },
  {
   "metadata": {
    "ExecuteTime": {
     "end_time": "2024-05-04T13:25:34.478223Z",
     "start_time": "2024-05-04T13:25:34.463164Z"
    }
   },
   "cell_type": "code",
   "source": "openai_api_key = os.getenv(\"OPENAI_API_KEY\")",
   "id": "7b53e59c2340af11",
   "execution_count": 17,
   "outputs": []
  },
  {
   "metadata": {
    "ExecuteTime": {
     "end_time": "2024-05-04T13:27:19.337594Z",
     "start_time": "2024-05-04T13:27:19.089907Z"
    }
   },
   "cell_type": "code",
   "source": [
    "from langchain_community.document_loaders import TextLoader\n",
    "from langchain_openai import OpenAIEmbeddings\n",
    "from langchain.text_splitter import CharacterTextSplitter\n",
    "from langchain_chroma import Chroma"
   ],
   "id": "8058f6c2f3077211",
   "execution_count": 18,
   "outputs": []
  },
  {
   "metadata": {
    "ExecuteTime": {
     "end_time": "2024-05-04T13:32:30.467904Z",
     "start_time": "2024-05-04T13:32:28.244066Z"
    }
   },
   "cell_type": "code",
   "source": [
    "raw_documents = TextLoader(\"E:/KrishM/GenerativeAI/langchain/unitednations.txt\").load()\n",
    "text_splitter = CharacterTextSplitter(chunk_size=1000, chunk_overlap=0)\n",
    "documents = text_splitter.split_documents(raw_documents)\n",
    "db = Chroma.from_documents(documents, embedding=OpenAIEmbeddings())"
   ],
   "id": "59736fec5001d4de",
   "execution_count": 19,
   "outputs": []
  },
  {
   "metadata": {
    "ExecuteTime": {
     "end_time": "2024-05-04T13:34:26.790957Z",
     "start_time": "2024-05-04T13:34:26.420730Z"
    }
   },
   "cell_type": "code",
   "source": [
    "query = \"What was the Moscow Conference\"\n",
    "docs = db.similarity_search(query)\n",
    "print(docs[0].page_content)"
   ],
   "id": "c81fba6f555a3239",
   "execution_count": 20,
   "outputs": []
  },
  {
   "metadata": {},
   "cell_type": "markdown",
   "source": [
    "Similarity Search by Vector:\n",
    "It is also possible to do a search for documents similar to a given embedding vector using similarity_search_by_vector which accepts an embedding vector as a parameter instead of a string."
   ],
   "id": "ab6381b285af93cf"
  },
  {
   "metadata": {
    "ExecuteTime": {
     "end_time": "2024-05-04T13:40:53.605365Z",
     "start_time": "2024-05-04T13:40:52.224923Z"
    }
   },
   "cell_type": "code",
   "source": [
    "embedding_vector = OpenAIEmbeddings().embed_query(query)\n",
    "docs = db.similarity_search_by_vector(embedding_vector)\n",
    "print(docs[0].page_content)"
   ],
   "id": "4b06abd130d7f92",
   "execution_count": 21,
   "outputs": []
  },
  {
   "metadata": {},
   "cell_type": "code",
   "execution_count": null,
   "source": "",
   "id": "1b853728ea8793ee",
   "outputs": []
  },
  {
   "metadata": {},
   "cell_type": "code",
   "execution_count": null,
   "source": "",
   "id": "8ea2040a39ae196b",
   "outputs": []
  },
  {
   "metadata": {},
   "cell_type": "code",
   "execution_count": null,
   "source": "",
   "id": "f8dfa67fcb88573d",
   "outputs": []
  },
  {
   "metadata": {},
   "cell_type": "code",
   "execution_count": null,
   "source": "",
   "id": "4d36c05ce6968335",
   "outputs": []
  }
 ],
 "metadata": {
  "kernelspec": {
   "display_name": "Python 3",
   "language": "python",
   "name": "python3"
  },
  "language_info": {
   "codemirror_mode": {
    "name": "ipython",
    "version": 2
   },
   "file_extension": ".py",
   "mimetype": "text/x-python",
   "name": "python",
   "nbconvert_exporter": "python",
   "pygments_lexer": "ipython2",
   "version": "2.7.6"
  }
 },
 "nbformat": 4,
 "nbformat_minor": 5
}
