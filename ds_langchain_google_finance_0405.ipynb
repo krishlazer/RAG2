{
 "cells": [
  {
   "metadata": {
    "ExecuteTime": {
     "end_time": "2024-05-04T15:42:32.562223Z",
     "start_time": "2024-05-04T15:42:32.532865Z"
    }
   },
   "cell_type": "code",
   "source": [
    "import os\n",
    "\n",
    "from langchain_community.tools.google_finance import GoogleFinanceQueryRun\n",
    "from langchain_community.utilities.google_finance import GoogleFinanceAPIWrapper\n",
    "\n",
    "serapi_api_key = os.getenv(\"SERP_API_KEY\")\n",
    "tool = GoogleFinanceQueryRun(api_wrapper=GoogleFinanceAPIWrapper())"
   ],
   "id": "db0eec1530cbdb1e",
   "execution_count": 10,
   "outputs": []
  },
  {
   "metadata": {
    "ExecuteTime": {
     "end_time": "2024-05-04T15:32:03.230080Z",
     "start_time": "2024-05-04T15:32:00.295012Z"
    }
   },
   "cell_type": "code",
   "source": "tool.invoke(\"Google\")",
   "id": "ae852b3d9c3623cd",
   "execution_count": 6,
   "outputs": []
  },
  {
   "metadata": {
    "ExecuteTime": {
     "end_time": "2024-05-04T15:32:33.167142Z",
     "start_time": "2024-05-04T15:32:32.475426Z"
    }
   },
   "cell_type": "code",
   "source": "tool.run(\"Google\")",
   "id": "f005126fec38f5",
   "execution_count": 7,
   "outputs": []
  },
  {
   "metadata": {
    "ExecuteTime": {
     "end_time": "2024-05-04T15:42:52.961561Z",
     "start_time": "2024-05-04T15:42:51.818249Z"
    }
   },
   "cell_type": "code",
   "source": [
    "from langchain.agents import AgentType, initialize_agent, load_tools\n",
    "from langchain_openai import OpenAI\n",
    "\n",
    "openai_api_key = os.getenv(\"OPENAI_API_KEY\")\n",
    "serp_api_key = os.getenv(\"SERP_API_KEY\")\n",
    "llm = OpenAI()\n",
    "tools = load_tools([\"google-scholar\", \"google-finance\"], llm=llm)\n",
    "agent = initialize_agent(\n",
    "    tools, agent=AgentType.ZERO_SHOT_REACT_DESCRIPTION, verbose=True\n",
    ")\n",
    "agent.run(\"What is Google's stock\")"
   ],
   "id": "eef23928dc248999",
   "execution_count": 11,
   "outputs": []
  },
  {
   "metadata": {},
   "cell_type": "code",
   "execution_count": null,
   "source": "",
   "id": "b5b002a7034a8614",
   "outputs": []
  },
  {
   "metadata": {},
   "cell_type": "code",
   "execution_count": null,
   "source": "",
   "id": "75dfd00c72f8cae8",
   "outputs": []
  },
  {
   "metadata": {},
   "cell_type": "code",
   "execution_count": null,
   "source": "",
   "id": "c8e131bf3cc9ce42",
   "outputs": []
  },
  {
   "metadata": {},
   "cell_type": "code",
   "execution_count": null,
   "source": "",
   "id": "5b65b940d8cffb5e",
   "outputs": []
  },
  {
   "metadata": {},
   "cell_type": "code",
   "execution_count": null,
   "source": "",
   "id": "188b89e247f4c872",
   "outputs": []
  },
  {
   "metadata": {},
   "cell_type": "code",
   "execution_count": null,
   "source": "",
   "id": "eddcbfcb2c16fc37",
   "outputs": []
  },
  {
   "metadata": {},
   "cell_type": "code",
   "execution_count": null,
   "source": "",
   "id": "30afee45b5903697",
   "outputs": []
  },
  {
   "metadata": {},
   "cell_type": "code",
   "execution_count": null,
   "source": "",
   "id": "5d97af3fde1a21d0",
   "outputs": []
  },
  {
   "metadata": {},
   "cell_type": "code",
   "execution_count": null,
   "source": "",
   "id": "b5d9540bb8067d27",
   "outputs": []
  }
 ],
 "metadata": {
  "kernelspec": {
   "display_name": "Python 3",
   "language": "python",
   "name": "python3"
  },
  "language_info": {
   "codemirror_mode": {
    "name": "ipython",
    "version": 2
   },
   "file_extension": ".py",
   "mimetype": "text/x-python",
   "name": "python",
   "nbconvert_exporter": "python",
   "pygments_lexer": "ipython2",
   "version": "2.7.6"
  }
 },
 "nbformat": 4,
 "nbformat_minor": 5
}
