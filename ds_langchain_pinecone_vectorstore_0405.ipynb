{
 "cells": [
  {
   "cell_type": "code",
   "id": "initial_id",
   "metadata": {
    "collapsed": true,
    "ExecuteTime": {
     "end_time": "2024-05-04T14:17:14.638263Z",
     "start_time": "2024-05-04T14:17:14.625612Z"
    }
   },
   "source": "import os",
   "execution_count": 1,
   "outputs": []
  },
  {
   "metadata": {
    "ExecuteTime": {
     "end_time": "2024-05-04T14:18:02.878909Z",
     "start_time": "2024-05-04T14:18:02.861747Z"
    }
   },
   "cell_type": "code",
   "source": [
    "openai_api_key = os.getenv('OPENAI_API_KEY')\n",
    "pinecone_api_key = os.getenv('PINECONE_API_KEY')\n",
    "pinecone_index_name = \"pcnindex2\""
   ],
   "id": "c09edfaf644b9291",
   "execution_count": 2,
   "outputs": []
  },
  {
   "metadata": {
    "ExecuteTime": {
     "end_time": "2024-05-04T14:18:56.858400Z",
     "start_time": "2024-05-04T14:18:44.801488Z"
    }
   },
   "cell_type": "code",
   "source": [
    "import langchain_pinecone\n",
    "import langchain_openai\n",
    "import langchain"
   ],
   "id": "510a6daa87da01d7",
   "execution_count": 3,
   "outputs": []
  },
  {
   "metadata": {
    "ExecuteTime": {
     "end_time": "2024-05-04T14:26:50.055887Z",
     "start_time": "2024-05-04T14:26:48.907934Z"
    }
   },
   "cell_type": "code",
   "source": [
    "from langchain_community.document_loaders import TextLoader\n",
    "from langchain_openai import OpenAIEmbeddings\n",
    "from langchain_text_splitters import CharacterTextSplitter\n",
    "\n",
    "loader = TextLoader(\"E:/KrishM/GenerativeAI/langchain/indianconstitution.txt\", encoding=\"utf-8\")\n",
    "documents = loader.load()\n",
    "text_splitter = CharacterTextSplitter(chunk_size=1000, chunk_overlap=0)\n",
    "docs = text_splitter.split_documents(documents)\n",
    "embeddings = OpenAIEmbeddings()\n"
   ],
   "id": "531ed59ab7e2654a",
   "execution_count": 6,
   "outputs": []
  },
  {
   "metadata": {
    "ExecuteTime": {
     "end_time": "2024-05-04T14:29:57.278239Z",
     "start_time": "2024-05-04T14:29:47.909637Z"
    }
   },
   "cell_type": "code",
   "source": [
    "from langchain_pinecone import PineconeVectorStore\n",
    "\n",
    "doc_search = PineconeVectorStore.from_documents(docs, embeddings, index_name = pinecone_index_name)"
   ],
   "id": "8137be0a3e233af5",
   "execution_count": 7,
   "outputs": []
  },
  {
   "metadata": {
    "ExecuteTime": {
     "end_time": "2024-05-04T14:36:04.028392Z",
     "start_time": "2024-05-04T14:36:03.358827Z"
    }
   },
   "cell_type": "code",
   "source": [
    "query = \"How was the Constituent Assembly set up?\"\n",
    "docs = doc_search.similarity_search(query)\n",
    "print(docs[0].page_content)"
   ],
   "id": "5c47261a932d8d26",
   "execution_count": 10,
   "outputs": []
  },
  {
   "metadata": {},
   "cell_type": "code",
   "execution_count": null,
   "source": "",
   "id": "66d53718ea84ce01",
   "outputs": []
  },
  {
   "metadata": {},
   "cell_type": "code",
   "execution_count": null,
   "source": "",
   "id": "a8e85711259ed23e",
   "outputs": []
  },
  {
   "metadata": {},
   "cell_type": "code",
   "execution_count": null,
   "source": "",
   "id": "6a97cd276d527acc",
   "outputs": []
  },
  {
   "metadata": {},
   "cell_type": "code",
   "execution_count": null,
   "source": "",
   "id": "efc09d3cd50264c3",
   "outputs": []
  },
  {
   "metadata": {},
   "cell_type": "code",
   "execution_count": null,
   "source": "",
   "id": "5f016b68f620e8ed",
   "outputs": []
  },
  {
   "metadata": {},
   "cell_type": "code",
   "execution_count": null,
   "source": "",
   "id": "f47b3b2beef47565",
   "outputs": []
  },
  {
   "metadata": {},
   "cell_type": "code",
   "execution_count": null,
   "source": "",
   "id": "eab7ef0d6637968c",
   "outputs": []
  }
 ],
 "metadata": {
  "kernelspec": {
   "display_name": "Python 3",
   "language": "python",
   "name": "python3"
  },
  "language_info": {
   "codemirror_mode": {
    "name": "ipython",
    "version": 2
   },
   "file_extension": ".py",
   "mimetype": "text/x-python",
   "name": "python",
   "nbconvert_exporter": "python",
   "pygments_lexer": "ipython2",
   "version": "2.7.6"
  }
 },
 "nbformat": 4,
 "nbformat_minor": 5
}
